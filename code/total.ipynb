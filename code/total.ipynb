{
 "cells": [
  {
   "cell_type": "markdown",
   "metadata": {},
   "source": [
    "# An Analysis of Kickstarter Campaigns\n",
    "## Tyler Zarnik: github - atTlr"
   ]
  },
  {
   "cell_type": "markdown",
   "metadata": {},
   "source": [
    "---\n",
    "\n",
    "## Executive Summary\n",
    "\n",
    "---\n",
    " \n",
    "The primary purpose of this project is to attempt to compile a comprehensive analysis of publicly available Kickstarter datasets with the goal to provide visualizations of the data as well as a machine learning model that will predict and give a probability of if the campaign will be successful. \n",
    "\n",
    "We will incorporate the python libraries pandas, numpy, and matplotlib for the Data Cleaning and Data Visualization steps of the project. Sklearn will be the library used for the machine learning model. We will be utilizing Amazon Web Services (AWS) to run and return our fitted model. A logistic regression will be used for the explanatory model while a random forest classifier will be used for a more predictive model. Natural Language Processing will additionally be used as further exogenous variables within our modeling pipeline as a way to incorporate the title and description of the Kickstarter Campaign as well.\n",
    "\n",
    "The analysis will also incorporate current articles that have been pubished by Kickstarter themselves as 'best practices' for running a campaign. We will look to corroborate any of these 'best practices' if they can be shown through the data as well as provide our own reccomendations based on our model."
   ]
  },
  {
   "cell_type": "markdown",
   "metadata": {},
   "source": [
    "### Contents:\n",
    "\n",
    "- [Preliminary Data On Kickstarter](#Preliminary-Data-On-Kickstarter)\n",
    "- [Tips Normally Explaining Successful Campaigns](#Tips-Normally-Explaining-Successful-Campaigns)\n",
    "- [Data Dictionary](#Data-Dictionary)\n",
    "- [Data Collection](#Data-Collection)\n",
    "- [Imports](#Imports)\n",
    "- [Exploratory Data Analysis](#EDA)\n",
    "- [Preprocessing & Modeling](#Preprocessing-&-Modeling)\n",
    "- [Evaluation and Conceptual Understanding](#Evaluation-and-Conceptual-Understanding)\n",
    "- [Conclusion and Recommendations](#Conclusion-and-Recommendations)"
   ]
  },
  {
   "cell_type": "markdown",
   "metadata": {},
   "source": [
    "### Preliminary Data On Kickstarter"
   ]
  },
  {
   "cell_type": "markdown",
   "metadata": {},
   "source": [
    "Before conducting the analysis, we find that it is neccessary to explain some of the facts nuances in the Kickstarter crowdfunding platform. The two main nuances that set Kickstarter apart from other plateforms are that Kickstarter does not offer a 'flexible' funding option and that Kickstarter only recieves money from a campaign if said campaign reachs its goals. For the US, kickstarter applies a 3-5% fee for credit card and PayPal processing, and take 5% for any successfully funded campaign. (https://www.kickstarter.com/articles/creative-projects-community-covid-19). This creates a unique situation as Kickstarter is incentivezed to help to cultivate and assist its campaign creators to reach the goals that it has set. When a campaign does not reach its chosen goal, no funds/pledges are collected or given to the creator by Kickstarter. As stated before this is markedly different from other platforms which offer 'flexible' funding options. Flexible funding options allow any funds that were pledge towards a goal to be collected by the creator with the caveat that any funds under the sepecified goal have a high percentage taken out by the crowdfunding comapny. \n",
    "\n",
    "Becuase of these nuances, Kickstarter has published via their blogs, different strategies and practices on what they see as actions taken by campaigns according to their data. According to Kickstarters stat page, Around 38% of all campaigns reach their goal (https://www.kickstarter.com/help/stats?ref=global-footer) this means that a few percentage points less than 2/3rds of all campaigns do not reach their goal. Interestingly, out of the 5.2 billion dollars requested by all campaigns launched on the site, 4.73 billion dollars have been collected by successfully funded projects. This could either indicate that the projects that get funded more often are campaigns with high goals or that campaigns that are successfully funded are often backed far above the suggested goal. "
   ]
  },
  {
   "cell_type": "markdown",
   "metadata": {},
   "source": [
    "### Tips Normally Explaining Successful Campiagns"
   ]
  },
  {
   "cell_type": "markdown",
   "metadata": {},
   "source": [
    "After reading through Kickstarters blog and other related articles and op-eds about how to run successful campaigns, there are typically similar ideas that are presented in the articles. I will attempt to simplify and present these in a more broad view below:\n",
    "\n",
    "> 1. __Have a Complete and Fleshed Out Kickstarter Page__ - \n",
    "    > Pages should have a picture, a well defined description, a timline, video, and personal touch.\n",
    "    \n",
    "> 2. __Projects shoulf have clearly defined goals and incentives__ - \n",
    "\n",
    "> 3. __Projects Should Engage with Backers Who Have Pledged__ - "
   ]
  },
  {
   "cell_type": "markdown",
   "metadata": {},
   "source": [
    "With the data that we were able to collect, from a cruesory glance, we do not believe that we will be able to definitively prove or disprove these claims. Rather we do hope that we can provide some additional data driven info to help bolster the tips above."
   ]
  },
  {
   "cell_type": "markdown",
   "metadata": {},
   "source": [
    "## Data Dictionary"
   ]
  },
  {
   "cell_type": "markdown",
   "metadata": {},
   "source": [
    "|Feature|Type|Dataset|Description|\n",
    "|---|---|---|---|\n",
    "|id|object|df|Identifing ID For Each Campaign|\n",
    "|name|object|df|Name and Description of the Campaign|\n",
    "|category|object|df|Subcategory Description of the Campaign|\n",
    "|main_category|object|df|Category Of the Campaign|\n",
    "|currency|object|df|Currency of Pledged Amount|\n",
    "|launched|datetime|df|Date When Campaign Was Created and Started|\n",
    "|deadline|datetime|df|Designated End Date of Campaign|\n",
    "|pledged|float|df|Amount Pledged In Amount of Currency|\n",
    "|usd_pledged|float|df|Trasnlated Amount Pledged in US Dollars|\n",
    "|goal|float|df|Amount That Creator Needs To Complete Project|\n",
    "|backers|int|df|Number of Users That Have Donated to the Campaign|\n",
    "|country|object|df|Country In Which the Campaign is Taking Place|\n",
    "|spotlight|object|df|If The Campaign Was Spotlighted on the Kickstarter Website|\n",
    "|staff_pick|object|df|If the Campaign Was Endorsed by the Staff at Kickstarter|\n",
    "|duration|int|df|Length In Days of Kickstarter Campaign|\n",
    "|month_launched|object|df|Month in Which Campaign Was Launched|\n",
    "|result|int|df|Whether the Campaign Reached The Goal Set|"
   ]
  },
  {
   "cell_type": "markdown",
   "metadata": {},
   "source": [
    "## Data Collection"
   ]
  },
  {
   "cell_type": "markdown",
   "metadata": {},
   "source": [
    "We collected our data from two sources, a Kaggle dataset as well as a collection of datasets from WebRobots.io. We have included a notebook that has the full process of the data cleaning and merging of datasets. Both datasets were cleared of any duplicates based on the campaign unique ID. This ensured that there was no overlap between the data sets gathered. There were several columns that were cleaned such as the 'name' and 'category' columns and the 'launched' and 'deadline' columns were adjusted to be datatime objects. Kickstarters stats page says that there have been 497,000 projects. Our dataset in total after cleaning and deleting duplicates round out to be around the 380,000 range. The time period of our data is from 2009 to July of 2020. While our data dies not capture every single campiagn we do believe that it is representative of the campaign population as a whole."
   ]
  },
  {
   "cell_type": "markdown",
   "metadata": {},
   "source": [
    "### Imports"
   ]
  },
  {
   "cell_type": "code",
   "execution_count": 11,
   "metadata": {},
   "outputs": [],
   "source": [
    "import pandas as pd\n",
    "import numpy as np\n",
    "import os\n",
    "import re\n",
    "from sklearn.linear_model import LogisticRegression\n",
    "from sklearn.model_selection import train_test_split, cross_val_score, GridSearchCV\n",
    "from datetime import datetime\n",
    "from sklearn.feature_extraction.text import CountVectorizer\n",
    "from sklearn import metrics\n",
    "import matplotlib.pyplot as plt\n",
    "import seaborn as sns\n",
    "from sklearn.compose import make_column_transformer\n",
    "from sklearn.base import BaseEstimator, TransformerMixin\n",
    "from sklearn.pipeline import Pipeline, FeatureUnion\n",
    "from sklearn.ensemble import RandomForestClassifier"
   ]
  },
  {
   "cell_type": "markdown",
   "metadata": {},
   "source": [
    "## EDA"
   ]
  },
  {
   "cell_type": "code",
   "execution_count": null,
   "metadata": {},
   "outputs": [],
   "source": [
    "df = pd.read_csv('../data/total_kickstarter.csv')"
   ]
  },
  {
   "cell_type": "markdown",
   "metadata": {},
   "source": [
    "We will first start by creating a pariplot to look at all of our numeric variables. Generally thi will give a sense of how our data is spread and visuals any overarching patterns."
   ]
  },
  {
   "cell_type": "code",
   "execution_count": null,
   "metadata": {},
   "outputs": [],
   "source": [
    "sns.pairplot(df[['pledged','goal','backers','result','duration']]);"
   ]
  },
  {
   "cell_type": "markdown",
   "metadata": {},
   "source": [
    "The most important thing to notice from this quick pairplot is that our dataset is ripe with outliers. This is most evidently seen in the 'goal' vs 'pledged' plots. Our data is also clumped at some points. From a cursory look, the duration is the most evidently clumped data especially around the apparent 30 and 60 day marks. We can also see from our 'result' vs 'result' plot that there are more failed rather than successful campaigns. Below will will dig deeper on some of the more interesting plots."
   ]
  },
  {
   "cell_type": "code",
   "execution_count": null,
   "metadata": {},
   "outputs": [],
   "source": [
    "plt.figure(figsize = (16,10))\n",
    "plt.hist(df['duration'])\n",
    "plt.hist(df.loc[df['result']==1]['duration'])\n",
    "plt.title('Distribution of Duration of Campaigns in Days With Color Portion of Success: Bins 10',fontsize = 20)\n",
    "plt.xlabel('Duration',fontsize = 12)\n",
    "plt.ylabel('Frequency',fontsize = 12)\n",
    "plt.tight_layout;"
   ]
  },
  {
   "cell_type": "markdown",
   "metadata": {},
   "source": [
    "The graph above shows the distribution of the duration of campaigns. This graph seems to show that duration has a somewhat normal distribution. While it does have considerable right skew, the graph using 10 bins shows that most data is between the 20-40 day mark which would indicate that most campaigns last around the 30 day mark. We can see that visually, all bins have a similar percentage of successful campaigns which is denoted by the orange bar in the graph above. The plot below will adjust the amount of bins so that we can get a more accurate picture of the data."
   ]
  },
  {
   "cell_type": "code",
   "execution_count": null,
   "metadata": {},
   "outputs": [],
   "source": [
    "plt.figure(figsize = (16,10))\n",
    "plt.hist(df_cov['duration'])\n",
    "plt.hist(df_cov.loc[df_cov['result']==1]['duration'])\n",
    "plt.title('Covid-19: Distribution of Duration of Campaigns in Days With Color Portion of Success: Bins 10',fontsize = 20)\n",
    "plt.xlabel('Duration',fontsize = 12)\n",
    "plt.ylabel('Frequency',fontsize = 12)"
   ]
  },
  {
   "cell_type": "code",
   "execution_count": null,
   "metadata": {},
   "outputs": [],
   "source": [
    "plt.figure(figsize = (16,10))\n",
    "plt.hist(df['duration'],bins = 11)\n",
    "plt.hist(df.loc[df['result']==1]['duration'],bins = 11)\n",
    "plt.title('Distribution of Duration of Campaigns in Days With Color Portion of Success: Bins 11',fontsize = 20)\n",
    "plt.xlabel('Duration',fontsize = 12)\n",
    "plt.ylabel('Frequency',fontsize = 12)\n",
    "plt.tight_layout;"
   ]
  },
  {
   "cell_type": "markdown",
   "metadata": {},
   "source": [
    "As we increased the number of bins, we can now start to see how most of the data is as previously hypothesized above, centered around the 30 day mark. Whereas success was relatively even across the duration earlier, now we can clearly see that 30 days and less have a high percentage of successful campaigns. AT around 2 months, there is clearly a low point. Based on the evidence and suggestions given by Kickstarter, generally campaigns that are more successful are better planned from the beginning which have the clearly defined outline and are marketed well. Longer campaigns may suffer from lack of coordination and clear plan and probably rely on having a loger deadline to be a crutch to getting more funding. "
   ]
  },
  {
   "cell_type": "code",
   "execution_count": null,
   "metadata": {},
   "outputs": [],
   "source": [
    "plt.figure(figsize = (16,10))\n",
    "plt.hist(df_cov['duration'],bins = 11)\n",
    "plt.hist(df_cov.loc[df_cov['result']==1]['duration'],bins = 11)\n",
    "plt.title('Covid-19: Distribution of Duration of Campaigns in Days With Color Portion of Success: Bins 11',fontsize = 20)\n",
    "plt.xlabel('Duration',fontsize = 12)\n",
    "plt.ylabel('Frequency',fontsize = 12)"
   ]
  },
  {
   "cell_type": "code",
   "execution_count": null,
   "metadata": {},
   "outputs": [],
   "source": [
    "plt.figure(figsize = (16,10))\n",
    "plt.bar(x = df['main_category'].value_counts().keys(), height = df['main_category'].value_counts())\n",
    "plt.bar(x = df.loc[df['result']==1]['main_category'].value_counts().keys(), height = df.loc[df['result']==1]['main_category'].value_counts())\n",
    "plt.xlabel('Main Categories', fontsize = 12)\n",
    "plt.ylabel('Frequency', fontsize = 12)\n",
    "plt.title('Main Categories Frequency vs Success', fontsize = 20)\n",
    "plt.tight_layout;"
   ]
  },
  {
   "cell_type": "markdown",
   "metadata": {},
   "source": [
    "One topic that we often found that was not discussed, was the topic of how category influences success. Kickstarter clearly focuses on the idea of 'projects' and does not allow crowdfunding of medical or personal campaigns that are not directly tied with a business campaign or personal artistic/technology based campaign. This will inherently shape the type of demographics that frequent and back the site. Kickstarters data found that projects are not purely or even mostly funded by friends and family but rather people who are independent of the creators circle. While the categories are organized from larget to cmallest in terms of number of campaigns, this does not also suggest that the more common campaigns are the most succesfful. The most successful campiagn categories based on percentages are: comics, theater, dance, and music. the music category is the only category that would be considered a 'main' or 'large' category on the website. Technology, journalism, fashion, and food are the lowest categories upon visual inspection. "
   ]
  },
  {
   "cell_type": "markdown",
   "metadata": {},
   "source": [
    "This might indicate that there is a demographic of backers that are not being fully catered to. There may also be a marketshare that uses other crowdfunding websites for their funding of specific categories suchs as theater or dance. Without data to other crowdfunding sites we can only speculate at this moment."
   ]
  },
  {
   "cell_type": "code",
   "execution_count": null,
   "metadata": {},
   "outputs": [],
   "source": [
    "plt.figure(figsize = (16,10))\n",
    "plt.bar(x = df_cov['main_category'].value_counts().keys(), height = df_cov['main_category'].value_counts())\n",
    "plt.bar(x = df_cov.loc[df_cov['result']==1]['main_category'].value_counts().keys(), height = df_cov.loc[df_cov['result']==1]['main_category'].value_counts())\n",
    "plt.xlabel('Main Categories', fontsize = 12)\n",
    "plt.ylabel('Frequency', fontsize = 12)\n",
    "plt.title('Covid-19: Main Categories Frequency vs Success', fontsize = 20)\n",
    "plt.tight_layout;"
   ]
  },
  {
   "cell_type": "code",
   "execution_count": null,
   "metadata": {},
   "outputs": [],
   "source": [
    "plt.figure(figsize = (16,10))\n",
    "df.loc[(df['backers'] < 500)]['backers'].hist(bins = 15, grid = False)\n",
    "df.loc[(df['backers']<500) & (df['result']==1)]['backers'].hist(bins = 15, grid = False)\n",
    "plt.xlabel('Number of Backers Per Campaign',fontsize = 12)\n",
    "plt.ylabel('Frequency',fontsize = 12)\n",
    "plt.title('Distribution of Backers with Success Highlighted: Less Than 500 Backers',fontsize = 20)\n",
    "plt.tight_layout;"
   ]
  },
  {
   "cell_type": "markdown",
   "metadata": {},
   "source": [
    "The above histogram shows that most campaigns that are successful are at least hitting the 50+ backer mark when the reach their goal. Assuming the distribution of goals is also extremely right skewed, than it would be safe to assume that campaigns that are successful in reaching their goal are funded by more lower pledging backers rather than fewer high pledging backers. This would inidcate that you do want to engage with as many people as possible rather than finding the 'white whale' backers who drop a far larger pledge."
   ]
  },
  {
   "cell_type": "code",
   "execution_count": null,
   "metadata": {},
   "outputs": [],
   "source": [
    "plt.figure(figsize = (16,10))\n",
    "df[df['goal']<50000]['goal'].hist(bins = 15)\n",
    "df[(df['goal']<50000)&(df['result']==1)]['goal'].hist(bins = 15,grid = False)\n",
    "plt.xlabel('Amount in USD',fontsize = 12)\n",
    "plt.ylabel('Frequency',fontsize = 12)\n",
    "plt.title('Distribution of Goals with Success Highlighted in USD: Less Than $50,000',fontsize = 20)\n",
    "plt.tight_layout;"
   ]
  },
  {
   "cell_type": "markdown",
   "metadata": {},
   "source": [
    "In continuation with the graph from above, the distribution of pledge goals is also heavily right skewed. However, it should be noted that it appears that after the initial more affordable less than $500 goals, most goals beyond that mark are percentage wise about as succesful at reaching their goal. This however does run counter to one of our observations earlier that most higher campaigns are funded according to the data from kickstaters stats page."
   ]
  },
  {
   "cell_type": "code",
   "execution_count": null,
   "metadata": {},
   "outputs": [],
   "source": [
    "plt.figure(figsize = (16,10))\n",
    "plt.bar(x = df['month_launched'].value_counts().keys(), height = df['month_launched'].value_counts())\n",
    "plt.bar(x = df.loc[df['result']==1]['month_launched'].value_counts().keys(), height = df.loc[df['result']==1]['month_launched'].value_counts())\n",
    "plt.xlabel('Months', fontsize = 15)\n",
    "plt.ylabel('Frequency', fontsize = 15)\n",
    "plt.title('Number of Campaigns per Month: Color Denotes Success', fontsize = 20)\n",
    "plt.xticks(np.arange(12), (['Jul','Mar','May','Jun','Apr','Oct','Nov','Feb','Aug','Sep','Jan','Dec']),fontsize = 15)\n",
    "plt.yticks(fontsize = 15)\n",
    "plt.tight_layout;"
   ]
  },
  {
   "cell_type": "markdown",
   "metadata": {},
   "source": [
    "## Preprocessing and Modeling"
   ]
  },
  {
   "cell_type": "markdown",
   "metadata": {},
   "source": [
    "Within the data cleaning notebook attached there is a dataset that has added the dummy variables for many of the numeric and categorical columns below. Also else is the same."
   ]
  },
  {
   "cell_type": "code",
   "execution_count": 2,
   "metadata": {},
   "outputs": [],
   "source": [
    "df = pd.read_csv('../data/no_cvec_kickstarter.csv')"
   ]
  },
  {
   "cell_type": "code",
   "execution_count": 3,
   "metadata": {},
   "outputs": [],
   "source": [
    "df.dropna(inplace=True)"
   ]
  },
  {
   "cell_type": "code",
   "execution_count": 4,
   "metadata": {},
   "outputs": [],
   "source": [
    "X = df.drop(columns = ['result','pledged','usd_pledged','launched','deadline','id'])"
   ]
  },
  {
   "cell_type": "code",
   "execution_count": 5,
   "metadata": {},
   "outputs": [],
   "source": [
    "y = df['result']"
   ]
  },
  {
   "cell_type": "code",
   "execution_count": 6,
   "metadata": {},
   "outputs": [],
   "source": [
    "X_train, X_test, y_train, y_test = train_test_split(X,y)"
   ]
  },
  {
   "cell_type": "code",
   "execution_count": 8,
   "metadata": {},
   "outputs": [
    {
     "data": {
      "text/plain": [
       "GridSearchCV(cv=3, error_score=nan,\n",
       "             estimator=Pipeline(memory=None,\n",
       "                                steps=[('col_trans',\n",
       "                                        ColumnTransformer(n_jobs=None,\n",
       "                                                          remainder='passthrough',\n",
       "                                                          sparse_threshold=0.3,\n",
       "                                                          transformer_weights=None,\n",
       "                                                          transformers=[('countvectorizer',\n",
       "                                                                         CountVectorizer(analyzer='word',\n",
       "                                                                                         binary=False,\n",
       "                                                                                         decode_error='strict',\n",
       "                                                                                         dtype=<class 'numpy.int64'>,\n",
       "                                                                                         encoding='utf-8',\n",
       "                                                                                         input='content',\n",
       "                                                                                         lower...\n",
       "                                                           solver='lbfgs',\n",
       "                                                           tol=0.0001,\n",
       "                                                           verbose=0,\n",
       "                                                           warm_start=False))],\n",
       "                                verbose=False),\n",
       "             iid='deprecated', n_jobs=None,\n",
       "             param_grid={'col_trans__countvectorizer__max_features': [100, 200],\n",
       "                         'col_trans__countvectorizer__ngram_range': [(1, 1),\n",
       "                                                                     (1, 2)],\n",
       "                         'log_reg__C': [1, 5], 'log_reg__max_iter': [1000]},\n",
       "             pre_dispatch='2*n_jobs', refit=True, return_train_score=False,\n",
       "             scoring=None, verbose=0)"
      ]
     },
     "execution_count": 8,
     "metadata": {},
     "output_type": "execute_result"
    }
   ],
   "source": [
    "col_transformer = make_column_transformer(\n",
    "    (CountVectorizer(), 'name'), \n",
    "    remainder = \"passthrough\"\n",
    ")\n",
    "\n",
    "pipe = Pipeline([\n",
    "    (\"col_trans\", col_transformer),\n",
    "    (\"log_reg\", LogisticRegression())\n",
    "])\n",
    "\n",
    "pipe_params = {\n",
    "    # Digging through transformers\n",
    "    'col_trans__countvectorizer__ngram_range': [(1,1),(1,2)],\n",
    "    'col_trans__countvectorizer__max_features': [100, 200],\n",
    "    \n",
    "    \"log_reg__C\" : [1, 5],\n",
    "    \"log_reg__max_iter\":[1000]\n",
    "}\n",
    "\n",
    "gs = GridSearchCV(pipe, pipe_params, cv = 3)\n",
    "\n",
    "gs.fit(X_train, y_train)"
   ]
  },
  {
   "cell_type": "code",
   "execution_count": 9,
   "metadata": {},
   "outputs": [
    {
     "data": {
      "text/plain": [
       "0.9136314218164875"
      ]
     },
     "execution_count": 9,
     "metadata": {},
     "output_type": "execute_result"
    }
   ],
   "source": [
    "gs.score(X_train, y_train)"
   ]
  },
  {
   "cell_type": "code",
   "execution_count": 10,
   "metadata": {},
   "outputs": [
    {
     "data": {
      "text/plain": [
       "0.9129520910342828"
      ]
     },
     "execution_count": 10,
     "metadata": {},
     "output_type": "execute_result"
    }
   ],
   "source": [
    "gs.score(X_test, y_test)"
   ]
  },
  {
   "cell_type": "code",
   "execution_count": null,
   "metadata": {},
   "outputs": [],
   "source": [
    "rf_col_transformer = make_column_transformer(\n",
    "    (CountVectorizer(), 'name'), \n",
    "    remainder = \"passthrough\"\n",
    ")\n",
    "\n",
    "rf_pipe = Pipeline([\n",
    "    (\"col_trans\", rf_col_transformer),\n",
    "    (\"rf\", RandomForestClassifier())\n",
    "])\n",
    "\n",
    "rf_pipe_params = {\n",
    "    # Digging through transformers\n",
    "    'col_trans__countvectorizer__ngram_range': [(1,1),(1,2)],\n",
    "    'col_trans__countvectorizer__max_features': [100, 200],\n",
    "    \n",
    "    \"rf__max_depth\" : [20, 30],\n",
    "    'rf__max_features' : [90,100]\n",
    "}\n",
    "\n",
    "rf_gs = GridSearchCV(rf_pipe, rf_pipe_params, cv = 3)\n",
    "\n",
    "rf_gs.fit(X_train, y_train)"
   ]
  },
  {
   "cell_type": "code",
   "execution_count": null,
   "metadata": {},
   "outputs": [],
   "source": [
    "rf_gs.score(X_train, y_train)"
   ]
  },
  {
   "cell_type": "code",
   "execution_count": null,
   "metadata": {},
   "outputs": [],
   "source": [
    "rf_gs.score(X_test, y_test)"
   ]
  },
  {
   "cell_type": "code",
   "execution_count": null,
   "metadata": {},
   "outputs": [],
   "source": []
  }
 ],
 "metadata": {
  "kernelspec": {
   "display_name": "Python 3",
   "language": "python",
   "name": "python3"
  },
  "language_info": {
   "codemirror_mode": {
    "name": "ipython",
    "version": 3
   },
   "file_extension": ".py",
   "mimetype": "text/x-python",
   "name": "python",
   "nbconvert_exporter": "python",
   "pygments_lexer": "ipython3",
   "version": "3.7.6"
  }
 },
 "nbformat": 4,
 "nbformat_minor": 4
}
