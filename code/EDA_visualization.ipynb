{
 "cells": [
  {
   "cell_type": "code",
   "execution_count": 1,
   "metadata": {},
   "outputs": [],
   "source": [
    "import pandas as pd\n",
    "import numpy as np\n",
    "import matplotlib.pyplot as plt\n",
    "import seaborn as sns\n",
    "import mplcyberpunk"
   ]
  },
  {
   "cell_type": "code",
   "execution_count": null,
   "metadata": {},
   "outputs": [],
   "source": [
    "plt.style.use(\"cyberpunk\")"
   ]
  },
  {
   "cell_type": "code",
   "execution_count": 2,
   "metadata": {},
   "outputs": [],
   "source": [
    "df = pd.read_csv('../data/total_kickstarter.csv')"
   ]
  },
  {
   "cell_type": "code",
   "execution_count": 5,
   "metadata": {},
   "outputs": [
    {
     "data": {
      "text/plain": [
       "id                  int64\n",
       "name               object\n",
       "category           object\n",
       "main_category      object\n",
       "currency           object\n",
       "launched           object\n",
       "deadline           object\n",
       "pledged           float64\n",
       "usd_pledged       float64\n",
       "goal              float64\n",
       "backers             int64\n",
       "country            object\n",
       "spotlight          object\n",
       "staff_pick         object\n",
       "result              int64\n",
       "duration            int64\n",
       "month_launched     object\n",
       "dtype: object"
      ]
     },
     "execution_count": 5,
     "metadata": {},
     "output_type": "execute_result"
    }
   ],
   "source": [
    "df.dtypes"
   ]
  },
  {
   "cell_type": "code",
   "execution_count": null,
   "metadata": {},
   "outputs": [],
   "source": [
    "df.drop_duplicates(['id'],inplace = True)"
   ]
  },
  {
   "cell_type": "markdown",
   "metadata": {},
   "source": [
    "## Unique Kickstarter"
   ]
  },
  {
   "cell_type": "code",
   "execution_count": null,
   "metadata": {},
   "outputs": [],
   "source": [
    "udf = pd.read_csv('../data/unique_ks.csv')"
   ]
  },
  {
   "cell_type": "code",
   "execution_count": null,
   "metadata": {},
   "outputs": [],
   "source": [
    "udf.drop(columns = 'Unnamed: 0',inplace = True)"
   ]
  },
  {
   "cell_type": "code",
   "execution_count": null,
   "metadata": {},
   "outputs": [],
   "source": [
    "udf['creator'] = udf['creator'].map(lambda x : x.split(':')[2].split(',')[0][1:-1])"
   ]
  },
  {
   "cell_type": "code",
   "execution_count": null,
   "metadata": {},
   "outputs": [],
   "source": [
    "udf['result'] = udf['state'].copy()"
   ]
  },
  {
   "cell_type": "code",
   "execution_count": null,
   "metadata": {},
   "outputs": [],
   "source": [
    "udf.drop(columns = 'state',inplace = True)"
   ]
  },
  {
   "cell_type": "code",
   "execution_count": null,
   "metadata": {},
   "outputs": [],
   "source": [
    "udf = udf.loc[(udf['result']=='successful')|(udf['result']=='failed')].copy()"
   ]
  },
  {
   "cell_type": "code",
   "execution_count": null,
   "metadata": {},
   "outputs": [],
   "source": [
    "udf['result'] = udf['result'].map({'successful':1,'failed':0})"
   ]
  },
  {
   "cell_type": "code",
   "execution_count": null,
   "metadata": {},
   "outputs": [],
   "source": [
    "unique_creat = []\n",
    "for k,v in (udf['creator'].value_counts()).items():\n",
    "    if ' ' in k and v > 1:\n",
    "        unique_creat.append(k)"
   ]
  },
  {
   "cell_type": "code",
   "execution_count": null,
   "metadata": {},
   "outputs": [],
   "source": [
    "# for i in udf['creator']:\n",
    "#     udf.loc[udf['creator'] ==i,'attempts']= len(udf.loc[udf['creator']==i]['result'].tolist())\n",
    "#     udf.loc[udf['creator'] ==i,'success']= sum(udf.loc[udf['creator']==i]['result'].tolist())"
   ]
  },
  {
   "cell_type": "code",
   "execution_count": null,
   "metadata": {},
   "outputs": [],
   "source": [
    "udf.to_csv('../data/unique_ks_up.csv',index = False)"
   ]
  },
  {
   "cell_type": "code",
   "execution_count": 7,
   "metadata": {},
   "outputs": [],
   "source": [
    "udf = pd.read_csv('../data/unique_ks_up.csv')"
   ]
  },
  {
   "cell_type": "code",
   "execution_count": 8,
   "metadata": {},
   "outputs": [],
   "source": [
    "gb_udf = udf.loc[udf['attempts']>1]"
   ]
  },
  {
   "cell_type": "code",
   "execution_count": null,
   "metadata": {},
   "outputs": [],
   "source": [
    "udf.loc[udf['creator']=='\"ON!\" - Clariden Robotic Team']"
   ]
  },
  {
   "cell_type": "code",
   "execution_count": 9,
   "metadata": {},
   "outputs": [
    {
     "data": {
      "text/html": [
       "<div>\n",
       "<style scoped>\n",
       "    .dataframe tbody tr th:only-of-type {\n",
       "        vertical-align: middle;\n",
       "    }\n",
       "\n",
       "    .dataframe tbody tr th {\n",
       "        vertical-align: top;\n",
       "    }\n",
       "\n",
       "    .dataframe thead th {\n",
       "        text-align: right;\n",
       "    }\n",
       "</style>\n",
       "<table border=\"1\" class=\"dataframe\">\n",
       "  <thead>\n",
       "    <tr style=\"text-align: right;\">\n",
       "      <th></th>\n",
       "      <th>creator</th>\n",
       "      <th>id</th>\n",
       "      <th>name</th>\n",
       "      <th>category</th>\n",
       "      <th>main_category</th>\n",
       "      <th>currency</th>\n",
       "      <th>launched</th>\n",
       "      <th>deadline</th>\n",
       "      <th>pledged</th>\n",
       "      <th>usd_pledged</th>\n",
       "      <th>goal</th>\n",
       "      <th>backers</th>\n",
       "      <th>country</th>\n",
       "      <th>spotlight</th>\n",
       "      <th>staff_pick</th>\n",
       "      <th>result</th>\n",
       "      <th>attempts</th>\n",
       "      <th>success</th>\n",
       "    </tr>\n",
       "  </thead>\n",
       "  <tbody>\n",
       "    <tr>\n",
       "      <th>2</th>\n",
       "      <td>SideKick Lab</td>\n",
       "      <td>662057057</td>\n",
       "      <td>Mars Attacks: Uprising Trading Cards The all-n...</td>\n",
       "      <td>comics</td>\n",
       "      <td>comics</td>\n",
       "      <td>USD</td>\n",
       "      <td>2020-02-03 08:59:31</td>\n",
       "      <td>2020-03-03 23:00:00</td>\n",
       "      <td>169760.00</td>\n",
       "      <td>169760.00</td>\n",
       "      <td>25000.0</td>\n",
       "      <td>526</td>\n",
       "      <td>US</td>\n",
       "      <td>True</td>\n",
       "      <td>True</td>\n",
       "      <td>1</td>\n",
       "      <td>4</td>\n",
       "      <td>4</td>\n",
       "    </tr>\n",
       "    <tr>\n",
       "      <th>5</th>\n",
       "      <td>Queen Games</td>\n",
       "      <td>399627160</td>\n",
       "      <td>Escape Roll &amp; Write A cooperative game for the...</td>\n",
       "      <td>tabletop games</td>\n",
       "      <td>games</td>\n",
       "      <td>USD</td>\n",
       "      <td>2020-05-20 10:23:48</td>\n",
       "      <td>2020-06-01 10:23:48</td>\n",
       "      <td>93934.50</td>\n",
       "      <td>93934.50</td>\n",
       "      <td>5000.0</td>\n",
       "      <td>1613</td>\n",
       "      <td>US</td>\n",
       "      <td>True</td>\n",
       "      <td>False</td>\n",
       "      <td>1</td>\n",
       "      <td>7</td>\n",
       "      <td>7</td>\n",
       "    </tr>\n",
       "    <tr>\n",
       "      <th>9</th>\n",
       "      <td>Joseph Oliveira</td>\n",
       "      <td>962366265</td>\n",
       "      <td>STAY AWAKE #1-#3 - A Psychological Horror Comi...</td>\n",
       "      <td>comics</td>\n",
       "      <td>comics</td>\n",
       "      <td>GBP</td>\n",
       "      <td>2020-03-30 05:02:17</td>\n",
       "      <td>2020-04-29 05:02:17</td>\n",
       "      <td>8204.31</td>\n",
       "      <td>10218.47</td>\n",
       "      <td>2400.0</td>\n",
       "      <td>422</td>\n",
       "      <td>GB</td>\n",
       "      <td>True</td>\n",
       "      <td>True</td>\n",
       "      <td>1</td>\n",
       "      <td>8</td>\n",
       "      <td>8</td>\n",
       "    </tr>\n",
       "    <tr>\n",
       "      <th>11</th>\n",
       "      <td>Spencer Campbell</td>\n",
       "      <td>1571839106</td>\n",
       "      <td>Slayers A tabletop RPG of monster hunting in a...</td>\n",
       "      <td>tabletop games</td>\n",
       "      <td>games</td>\n",
       "      <td>USD</td>\n",
       "      <td>2020-06-30 11:00:05</td>\n",
       "      <td>2020-07-30 11:00:05</td>\n",
       "      <td>17507.00</td>\n",
       "      <td>17507.00</td>\n",
       "      <td>1500.0</td>\n",
       "      <td>807</td>\n",
       "      <td>US</td>\n",
       "      <td>True</td>\n",
       "      <td>False</td>\n",
       "      <td>1</td>\n",
       "      <td>2</td>\n",
       "      <td>2</td>\n",
       "    </tr>\n",
       "    <tr>\n",
       "      <th>12</th>\n",
       "      <td>Nicholas Williams</td>\n",
       "      <td>792990448</td>\n",
       "      <td>Take 'As I Go Ramblin' Around' To New Heights!...</td>\n",
       "      <td>country &amp; folk</td>\n",
       "      <td>music</td>\n",
       "      <td>USD</td>\n",
       "      <td>2019-03-20 16:14:37</td>\n",
       "      <td>2019-04-19 16:14:37</td>\n",
       "      <td>15634.00</td>\n",
       "      <td>15634.00</td>\n",
       "      <td>15000.0</td>\n",
       "      <td>259</td>\n",
       "      <td>US</td>\n",
       "      <td>True</td>\n",
       "      <td>False</td>\n",
       "      <td>1</td>\n",
       "      <td>4</td>\n",
       "      <td>4</td>\n",
       "    </tr>\n",
       "    <tr>\n",
       "      <th>...</th>\n",
       "      <td>...</td>\n",
       "      <td>...</td>\n",
       "      <td>...</td>\n",
       "      <td>...</td>\n",
       "      <td>...</td>\n",
       "      <td>...</td>\n",
       "      <td>...</td>\n",
       "      <td>...</td>\n",
       "      <td>...</td>\n",
       "      <td>...</td>\n",
       "      <td>...</td>\n",
       "      <td>...</td>\n",
       "      <td>...</td>\n",
       "      <td>...</td>\n",
       "      <td>...</td>\n",
       "      <td>...</td>\n",
       "      <td>...</td>\n",
       "      <td>...</td>\n",
       "    </tr>\n",
       "    <tr>\n",
       "      <th>164019</th>\n",
       "      <td>Derek</td>\n",
       "      <td>1600191077</td>\n",
       "      <td>Kitty Cat Pet Fountains Kitty Cat Fountains fo...</td>\n",
       "      <td>crafts</td>\n",
       "      <td>crafts</td>\n",
       "      <td>USD</td>\n",
       "      <td>2015-03-03 07:19:47</td>\n",
       "      <td>2015-03-24 07:19:47</td>\n",
       "      <td>382.00</td>\n",
       "      <td>382.00</td>\n",
       "      <td>150.0</td>\n",
       "      <td>9</td>\n",
       "      <td>US</td>\n",
       "      <td>True</td>\n",
       "      <td>False</td>\n",
       "      <td>1</td>\n",
       "      <td>6</td>\n",
       "      <td>4</td>\n",
       "    </tr>\n",
       "    <tr>\n",
       "      <th>164020</th>\n",
       "      <td>Ben Harris</td>\n",
       "      <td>1706988832</td>\n",
       "      <td>Life has a Soundtrack.  Control Yours.  GoGlov...</td>\n",
       "      <td>wearables</td>\n",
       "      <td>technology</td>\n",
       "      <td>USD</td>\n",
       "      <td>2014-07-04 00:15:27</td>\n",
       "      <td>2014-08-03 00:15:27</td>\n",
       "      <td>25342.00</td>\n",
       "      <td>25342.00</td>\n",
       "      <td>50000.0</td>\n",
       "      <td>253</td>\n",
       "      <td>US</td>\n",
       "      <td>False</td>\n",
       "      <td>True</td>\n",
       "      <td>0</td>\n",
       "      <td>3</td>\n",
       "      <td>2</td>\n",
       "    </tr>\n",
       "    <tr>\n",
       "      <th>164029</th>\n",
       "      <td>Wieb</td>\n",
       "      <td>1409012589</td>\n",
       "      <td>CORTAZU: HIGH-QUALITY OUTERWEAR AT A REVOLUTIO...</td>\n",
       "      <td>apparel</td>\n",
       "      <td>fashion</td>\n",
       "      <td>EUR</td>\n",
       "      <td>2018-02-12 11:03:47</td>\n",
       "      <td>2018-03-28 11:03:47</td>\n",
       "      <td>395926.00</td>\n",
       "      <td>484830.89</td>\n",
       "      <td>25000.0</td>\n",
       "      <td>1041</td>\n",
       "      <td>NL</td>\n",
       "      <td>True</td>\n",
       "      <td>False</td>\n",
       "      <td>1</td>\n",
       "      <td>4</td>\n",
       "      <td>4</td>\n",
       "    </tr>\n",
       "    <tr>\n",
       "      <th>164030</th>\n",
       "      <td>Dennis Lohmann</td>\n",
       "      <td>779408585</td>\n",
       "      <td>paperesk / eye catching papercraft models Buil...</td>\n",
       "      <td>crafts</td>\n",
       "      <td>crafts</td>\n",
       "      <td>EUR</td>\n",
       "      <td>2016-01-15 15:23:37</td>\n",
       "      <td>2016-02-14 15:23:37</td>\n",
       "      <td>5725.00</td>\n",
       "      <td>6228.88</td>\n",
       "      <td>1500.0</td>\n",
       "      <td>334</td>\n",
       "      <td>DE</td>\n",
       "      <td>True</td>\n",
       "      <td>True</td>\n",
       "      <td>1</td>\n",
       "      <td>2</td>\n",
       "      <td>2</td>\n",
       "    </tr>\n",
       "    <tr>\n",
       "      <th>164038</th>\n",
       "      <td>Bumblebee.</td>\n",
       "      <td>116193847</td>\n",
       "      <td>HOW TO MAKE GAMES with PICO-8 (English &amp; Germa...</td>\n",
       "      <td>nonfiction</td>\n",
       "      <td>publishing</td>\n",
       "      <td>EUR</td>\n",
       "      <td>2017-04-04 02:48:41</td>\n",
       "      <td>2017-04-11 12:00:00</td>\n",
       "      <td>7219.00</td>\n",
       "      <td>7709.13</td>\n",
       "      <td>3000.0</td>\n",
       "      <td>278</td>\n",
       "      <td>DE</td>\n",
       "      <td>True</td>\n",
       "      <td>True</td>\n",
       "      <td>1</td>\n",
       "      <td>2</td>\n",
       "      <td>2</td>\n",
       "    </tr>\n",
       "  </tbody>\n",
       "</table>\n",
       "<p>28114 rows × 18 columns</p>\n",
       "</div>"
      ],
      "text/plain": [
       "                  creator          id  \\\n",
       "2            SideKick Lab   662057057   \n",
       "5             Queen Games   399627160   \n",
       "9         Joseph Oliveira   962366265   \n",
       "11       Spencer Campbell  1571839106   \n",
       "12      Nicholas Williams   792990448   \n",
       "...                   ...         ...   \n",
       "164019              Derek  1600191077   \n",
       "164020         Ben Harris  1706988832   \n",
       "164029               Wieb  1409012589   \n",
       "164030     Dennis Lohmann   779408585   \n",
       "164038         Bumblebee.   116193847   \n",
       "\n",
       "                                                     name        category  \\\n",
       "2       Mars Attacks: Uprising Trading Cards The all-n...          comics   \n",
       "5       Escape Roll & Write A cooperative game for the...  tabletop games   \n",
       "9       STAY AWAKE #1-#3 - A Psychological Horror Comi...          comics   \n",
       "11      Slayers A tabletop RPG of monster hunting in a...  tabletop games   \n",
       "12      Take 'As I Go Ramblin' Around' To New Heights!...  country & folk   \n",
       "...                                                   ...             ...   \n",
       "164019  Kitty Cat Pet Fountains Kitty Cat Fountains fo...          crafts   \n",
       "164020  Life has a Soundtrack.  Control Yours.  GoGlov...       wearables   \n",
       "164029  CORTAZU: HIGH-QUALITY OUTERWEAR AT A REVOLUTIO...         apparel   \n",
       "164030  paperesk / eye catching papercraft models Buil...          crafts   \n",
       "164038  HOW TO MAKE GAMES with PICO-8 (English & Germa...      nonfiction   \n",
       "\n",
       "       main_category currency             launched             deadline  \\\n",
       "2             comics      USD  2020-02-03 08:59:31  2020-03-03 23:00:00   \n",
       "5              games      USD  2020-05-20 10:23:48  2020-06-01 10:23:48   \n",
       "9             comics      GBP  2020-03-30 05:02:17  2020-04-29 05:02:17   \n",
       "11             games      USD  2020-06-30 11:00:05  2020-07-30 11:00:05   \n",
       "12             music      USD  2019-03-20 16:14:37  2019-04-19 16:14:37   \n",
       "...              ...      ...                  ...                  ...   \n",
       "164019        crafts      USD  2015-03-03 07:19:47  2015-03-24 07:19:47   \n",
       "164020    technology      USD  2014-07-04 00:15:27  2014-08-03 00:15:27   \n",
       "164029       fashion      EUR  2018-02-12 11:03:47  2018-03-28 11:03:47   \n",
       "164030        crafts      EUR  2016-01-15 15:23:37  2016-02-14 15:23:37   \n",
       "164038    publishing      EUR  2017-04-04 02:48:41  2017-04-11 12:00:00   \n",
       "\n",
       "          pledged  usd_pledged     goal  backers country  spotlight  \\\n",
       "2       169760.00    169760.00  25000.0      526      US       True   \n",
       "5        93934.50     93934.50   5000.0     1613      US       True   \n",
       "9         8204.31     10218.47   2400.0      422      GB       True   \n",
       "11       17507.00     17507.00   1500.0      807      US       True   \n",
       "12       15634.00     15634.00  15000.0      259      US       True   \n",
       "...           ...          ...      ...      ...     ...        ...   \n",
       "164019     382.00       382.00    150.0        9      US       True   \n",
       "164020   25342.00     25342.00  50000.0      253      US      False   \n",
       "164029  395926.00    484830.89  25000.0     1041      NL       True   \n",
       "164030    5725.00      6228.88   1500.0      334      DE       True   \n",
       "164038    7219.00      7709.13   3000.0      278      DE       True   \n",
       "\n",
       "        staff_pick  result  attempts  success  \n",
       "2             True       1         4        4  \n",
       "5            False       1         7        7  \n",
       "9             True       1         8        8  \n",
       "11           False       1         2        2  \n",
       "12           False       1         4        4  \n",
       "...            ...     ...       ...      ...  \n",
       "164019       False       1         6        4  \n",
       "164020        True       0         3        2  \n",
       "164029       False       1         4        4  \n",
       "164030        True       1         2        2  \n",
       "164038        True       1         2        2  \n",
       "\n",
       "[28114 rows x 18 columns]"
      ]
     },
     "execution_count": 9,
     "metadata": {},
     "output_type": "execute_result"
    }
   ],
   "source": [
    "gb_udf[gb_udf['success']> gb_udf['attempts']/2]"
   ]
  },
  {
   "cell_type": "code",
   "execution_count": 10,
   "metadata": {},
   "outputs": [
    {
     "name": "stderr",
     "output_type": "stream",
     "text": [
      "/Users/tylerzarnik/opt/anaconda3/lib/python3.7/site-packages/ipykernel_launcher.py:1: SettingWithCopyWarning: \n",
      "A value is trying to be set on a copy of a slice from a DataFrame.\n",
      "Try using .loc[row_indexer,col_indexer] = value instead\n",
      "\n",
      "See the caveats in the documentation: https://pandas.pydata.org/pandas-docs/stable/user_guide/indexing.html#returning-a-view-versus-a-copy\n",
      "  \"\"\"Entry point for launching an IPython kernel.\n",
      "/Users/tylerzarnik/opt/anaconda3/lib/python3.7/site-packages/ipykernel_launcher.py:2: SettingWithCopyWarning: \n",
      "A value is trying to be set on a copy of a slice from a DataFrame.\n",
      "Try using .loc[row_indexer,col_indexer] = value instead\n",
      "\n",
      "See the caveats in the documentation: https://pandas.pydata.org/pandas-docs/stable/user_guide/indexing.html#returning-a-view-versus-a-copy\n",
      "  \n"
     ]
    }
   ],
   "source": [
    "gb_udf['launched'] = gb_udf['launched'].map(lambda x : pd.to_datetime(x)).copy()\n",
    "gb_udf['deadline'] = gb_udf['deadline'].map(lambda x : pd.to_datetime(x)).copy()"
   ]
  },
  {
   "cell_type": "code",
   "execution_count": 11,
   "metadata": {},
   "outputs": [
    {
     "name": "stderr",
     "output_type": "stream",
     "text": [
      "/Users/tylerzarnik/opt/anaconda3/lib/python3.7/site-packages/ipykernel_launcher.py:1: SettingWithCopyWarning: \n",
      "A value is trying to be set on a copy of a slice from a DataFrame.\n",
      "Try using .loc[row_indexer,col_indexer] = value instead\n",
      "\n",
      "See the caveats in the documentation: https://pandas.pydata.org/pandas-docs/stable/user_guide/indexing.html#returning-a-view-versus-a-copy\n",
      "  \"\"\"Entry point for launching an IPython kernel.\n"
     ]
    }
   ],
   "source": [
    "gb_udf['duration'] = (gb_udf['deadline'] - gb_udf['launched']).dt.days"
   ]
  },
  {
   "cell_type": "code",
   "execution_count": 12,
   "metadata": {},
   "outputs": [
    {
     "data": {
      "text/plain": [
       "<matplotlib.axes._subplots.AxesSubplot at 0x7ff0b8cebfd0>"
      ]
     },
     "execution_count": 12,
     "metadata": {},
     "output_type": "execute_result"
    },
    {
     "data": {
      "image/png": "[encoded data removed]",
      "text/plain": [
       "<Figure size 432x288 with 1 Axes>"
      ]
     },
     "metadata": {
      "needs_background": "light"
     },
     "output_type": "display_data"
    }
   ],
   "source": [
    "gb_udf['duration'].hist()"
   ]
  },
  {
   "cell_type": "code",
   "execution_count": 6,
   "metadata": {},
   "outputs": [
    {
     "ename": "NameError",
     "evalue": "name 'udf' is not defined",
     "output_type": "error",
     "traceback": [
      "\u001b[0;31m---------------------------------------------------------------------------\u001b[0m",
      "\u001b[0;31mNameError\u001b[0m                                 Traceback (most recent call last)",
      "\u001b[0;32m<ipython-input-6-93d11f4519fe>\u001b[0m in \u001b[0;36m<module>\u001b[0;34m\u001b[0m\n\u001b[0;32m----> 1\u001b[0;31m \u001b[0mudf\u001b[0m\u001b[0;34m.\u001b[0m\u001b[0mto_csv\u001b[0m\u001b[0;34m(\u001b[0m\u001b[0;34m'../data/unique_ks_up.csv'\u001b[0m\u001b[0;34m,\u001b[0m\u001b[0mindex\u001b[0m \u001b[0;34m=\u001b[0m \u001b[0;32mFalse\u001b[0m\u001b[0;34m)\u001b[0m\u001b[0;34m\u001b[0m\u001b[0;34m\u001b[0m\u001b[0m\n\u001b[0m",
      "\u001b[0;31mNameError\u001b[0m: name 'udf' is not defined"
     ]
    }
   ],
   "source": [
    "udf.to_csv('../data/unique_ks_up.csv',index = False)"
   ]
  },
  {
   "cell_type": "markdown",
   "metadata": {},
   "source": [
    "## visaualizations"
   ]
  },
  {
   "cell_type": "code",
   "execution_count": null,
   "metadata": {},
   "outputs": [],
   "source": [
    "df['duration'].hist();"
   ]
  },
  {
   "cell_type": "code",
   "execution_count": null,
   "metadata": {},
   "outputs": [],
   "source": [
    "plt.hist(x = df['duration'],bins = 10,);"
   ]
  },
  {
   "cell_type": "code",
   "execution_count": null,
   "metadata": {},
   "outputs": [],
   "source": [
    "plt.figure(figsize = (16,10))\n",
    "plt.hist(df['duration'])\n",
    "plt.hist(df.loc[df['result']==1]['duration'])\n",
    "plt.title('Distribution of Duration of Campaigns in Days With Color Portion of Success: Bins 10',fontsize = 20)\n",
    "plt.xlabel('Duration',fontsize = 12)\n",
    "plt.ylabel('Frequency',fontsize = 12)\n",
    "mplcyberpunk.add_glow_effects();"
   ]
  },
  {
   "cell_type": "code",
   "execution_count": null,
   "metadata": {},
   "outputs": [],
   "source": [
    "plt.figure(figsize = (16,10))\n",
    "plt.hist(df_cov['duration'])\n",
    "plt.hist(df_cov.loc[df_cov['result']==1]['duration'])\n",
    "plt.title('Covid-19: Distribution of Duration of Campaigns in Days With Color Portion of Success: Bins 10',fontsize = 20)\n",
    "plt.xlabel('Duration',fontsize = 12)\n",
    "plt.ylabel('Frequency',fontsize = 12)\n",
    "mplcyberpunk.add_glow_effects();"
   ]
  },
  {
   "cell_type": "code",
   "execution_count": null,
   "metadata": {},
   "outputs": [],
   "source": [
    "plt.figure(figsize = (16,10))\n",
    "plt.hist(df['duration'],bins = 11)\n",
    "plt.hist(df.loc[df['result']==1]['duration'],bins = 11)\n",
    "plt.title('Distribution of Duration of Campaigns in Days With Color Portion of Success: Bins 11',fontsize = 20)\n",
    "plt.xlabel('Duration',fontsize = 12)\n",
    "plt.ylabel('Frequency',fontsize = 12)\n",
    "mplcyberpunk.add_glow_effects();"
   ]
  },
  {
   "cell_type": "code",
   "execution_count": null,
   "metadata": {},
   "outputs": [],
   "source": [
    "plt.figure(figsize = (16,10))\n",
    "plt.hist(df_cov['duration'],bins = 11)\n",
    "plt.hist(df_cov.loc[df_cov['result']==1]['duration'],bins = 11)\n",
    "plt.title('Covid-19: Distribution of Duration of Campaigns in Days With Color Portion of Success: Bins 11',fontsize = 20)\n",
    "plt.xlabel('Duration',fontsize = 12)\n",
    "plt.ylabel('Frequency',fontsize = 12)\n",
    "mplcyberpunk.add_glow_effects();"
   ]
  },
  {
   "cell_type": "code",
   "execution_count": null,
   "metadata": {},
   "outputs": [],
   "source": [
    "df['main_category'].value_counts().keys()"
   ]
  },
  {
   "cell_type": "code",
   "execution_count": null,
   "metadata": {},
   "outputs": [],
   "source": [
    "plt.figure(figsize = (16,10))\n",
    "plt.bar(x = df['main_category'].value_counts().keys(), height = df['main_category'].value_counts())\n",
    "plt.bar(x = df.loc[df['result']==1]['main_category'].value_counts().keys(), height = df.loc[df['result']==1]['main_category'].value_counts())\n",
    "plt.xlabel('Main Categories', fontsize = 12)\n",
    "plt.ylabel('Frequency', fontsize = 12)\n",
    "plt.title('Main Categories Frequency vs Success', fontsize = 20)\n",
    "mplcyberpunk.add_glow_effects()\n",
    "plt.tight_layout;"
   ]
  },
  {
   "cell_type": "code",
   "execution_count": null,
   "metadata": {},
   "outputs": [],
   "source": [
    "plt.figure(figsize = (16,10))\n",
    "plt.bar(x = df_cov['main_category'].value_counts().keys(), height = df_cov['main_category'].value_counts())\n",
    "plt.bar(x = df_cov.loc[df_cov['result']==1]['main_category'].value_counts().keys(), height = df_cov.loc[df_cov['result']==1]['main_category'].value_counts())\n",
    "plt.xlabel('Main Categories', fontsize = 12)\n",
    "plt.ylabel('Frequency', fontsize = 12)\n",
    "plt.title('Covid-19: Main Categories Frequency vs Success', fontsize = 20)\n",
    "mplcyberpunk.add_glow_effects()\n",
    "plt.tight_layout;"
   ]
  },
  {
   "cell_type": "code",
   "execution_count": null,
   "metadata": {},
   "outputs": [],
   "source": [
    "plt.figure(figsize = (16,10))\n",
    "df.loc[(df['backers'] < 500)]['backers'].hist(bins = 15)\n",
    "df.loc[(df['backers']<500) & (df['result']==1)]['backers'].hist(bins = 15)\n",
    "plt.xlabel('Number of Backers Per Campaign',fontsize = 12)\n",
    "plt.ylabel('Frequency',fontsize = 12)\n",
    "plt.title('Distribution of Goals with Success Highlighted in USD',fontsize = 20)\n",
    "# mplcyberpunk.add_glow_effects()\n",
    "plt.tight_layout;"
   ]
  },
  {
   "cell_type": "code",
   "execution_count": null,
   "metadata": {},
   "outputs": [],
   "source": [
    "plt.figure(figsize = (16,10))\n",
    "\n",
    "df[df['goal']<50000]['goal'].hist(bins = 15)\n",
    "df[(df['goal']<50000)&(df['result']==1)]['goal'].hist(bins = 15)\n",
    "plt.xlabel('Amount in USD',fontsize = 12)\n",
    "plt.ylabel('Frequency',fontsize = 12)\n",
    "plt.title('Distribution of Goals with Success Highlighted in USD',fontsize = 20)\n",
    "# mplcyberpunk.add_glow_effects()\n",
    "plt.tight_layout;"
   ]
  },
  {
   "cell_type": "code",
   "execution_count": null,
   "metadata": {},
   "outputs": [],
   "source": [
    "plt.figure(figsize = (16,10))\n",
    "plt.bar(x = df['month_launched'].value_counts().keys(), height = df['month_launched'].value_counts())\n",
    "plt.bar(x = df.loc[df['result']==1]['month_launched'].value_counts().keys(), height = df.loc[df['result']==1]['month_launched'].value_counts())\n",
    "plt.xlabel('Months', fontsize = 15)\n",
    "plt.ylabel('Frequency', fontsize = 15)\n",
    "plt.title('Number of Campaigns per Month: Color Denotes Success', fontsize = 20)\n",
    "plt.xticks(np.arange(12), (['Jul','Mar','May','Jun','Apr','Oct','Nov','Feb','Aug','Sep','Jan','Dec']),fontsize = 15)\n",
    "plt.yticks(fontsize = 15)\n",
    "mplcyberpunk.add_glow_effects()\n",
    "plt.tight_layout;"
   ]
  },
  {
   "cell_type": "code",
   "execution_count": null,
   "metadata": {},
   "outputs": [],
   "source": [
    "df['launched'] = df['launched'].map(lambda x : pd.to_datetime(x))\n",
    "df['deadline'] = df['deadline'].map(lambda x : pd.to_datetime(x))"
   ]
  },
  {
   "cell_type": "code",
   "execution_count": null,
   "metadata": {},
   "outputs": [],
   "source": [
    "df_cov = df.loc[(df['launched'].dt.year == 2020) & (df['launched'].dt.month.isin([3,4,5,6,7]))]"
   ]
  },
  {
   "cell_type": "code",
   "execution_count": null,
   "metadata": {},
   "outputs": [],
   "source": [
    "df_cov['result'].value_counts(normalize = True)"
   ]
  },
  {
   "cell_type": "code",
   "execution_count": null,
   "metadata": {},
   "outputs": [],
   "source": [
    "df['result'].value_counts(normalize = True)"
   ]
  },
  {
   "cell_type": "code",
   "execution_count": null,
   "metadata": {},
   "outputs": [],
   "source": [
    "df_cov.loc[df_cov['result']==1]['main_category'].value_counts().keys()"
   ]
  },
  {
   "cell_type": "code",
   "execution_count": null,
   "metadata": {},
   "outputs": [],
   "source": [
    "df_cov.loc[df_cov['result']==1]['main_category'].value_counts()"
   ]
  },
  {
   "cell_type": "code",
   "execution_count": null,
   "metadata": {},
   "outputs": [],
   "source": [
    "df_cov.loc[df_cov['result']==0]['main_category'].value_counts()"
   ]
  },
  {
   "cell_type": "code",
   "execution_count": null,
   "metadata": {},
   "outputs": [],
   "source": [
    "2896/(177 + 2896)"
   ]
  },
  {
   "cell_type": "code",
   "execution_count": null,
   "metadata": {},
   "outputs": [],
   "source": [
    "for k,v in df['main_category'].value_counts().items():\n",
    "    print(k,v)"
   ]
  },
  {
   "cell_type": "code",
   "execution_count": null,
   "metadata": {},
   "outputs": [],
   "source": [
    "cat_success = {}\n",
    "for k,v in df.loc[df['result']==1]['main_category'].value_counts().items():\n",
    "    cat_success[k] = v\n",
    "    "
   ]
  },
  {
   "cell_type": "code",
   "execution_count": null,
   "metadata": {},
   "outputs": [],
   "source": [
    "cate = {}\n",
    "for k,v in df['main_category'].value_counts().items():\n",
    "    cate[k] = v"
   ]
  },
  {
   "cell_type": "code",
   "execution_count": null,
   "metadata": {},
   "outputs": [],
   "source": [
    "cat_success"
   ]
  },
  {
   "cell_type": "code",
   "execution_count": null,
   "metadata": {},
   "outputs": [],
   "source": [
    "cate"
   ]
  },
  {
   "cell_type": "markdown",
   "metadata": {},
   "source": [
    "for k_s,v_s in cat_success:\n",
    "    for k_c,v_c in cate:\n",
    "        if k_s == k_c:\n",
    "            cat_success[k_s]/"
   ]
  },
  {
   "cell_type": "code",
   "execution_count": null,
   "metadata": {},
   "outputs": [],
   "source": []
  }
 ],
 "metadata": {
  "kernelspec": {
   "display_name": "Python 3",
   "language": "python",
   "name": "python3"
  },
  "language_info": {
   "codemirror_mode": {
    "name": "ipython",
    "version": 3
   },
   "file_extension": ".py",
   "mimetype": "text/x-python",
   "name": "python",
   "nbconvert_exporter": "python",
   "pygments_lexer": "ipython3",
   "version": "3.7.6"
  }
 },
 "nbformat": 4,
 "nbformat_minor": 4
}
