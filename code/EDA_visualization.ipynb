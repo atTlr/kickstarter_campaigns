{
 "cells": [
  {
   "cell_type": "code",
   "execution_count": 1,
   "metadata": {},
   "outputs": [],
   "source": [
    "import pandas as pd\n",
    "import numpy as np\n",
    "import matplotlib.pyplot as plt\n",
    "import seaborn as sns\n",
    "import mplcyberpunk"
   ]
  },
  {
   "cell_type": "code",
   "execution_count": null,
   "metadata": {},
   "outputs": [],
   "source": [
    "plt.style.use(\"cyberpunk\")"
   ]
  },
  {
   "cell_type": "code",
   "execution_count": 2,
   "metadata": {},
   "outputs": [],
   "source": [
    "df = pd.read_csv('../data/total_kickstarter.csv')"
   ]
  },
  {
   "cell_type": "code",
   "execution_count": 5,
   "metadata": {},
   "outputs": [
    {
     "data": {
      "text/plain": [
       "id                  int64\n",
       "name               object\n",
       "category           object\n",
       "main_category      object\n",
       "currency           object\n",
       "launched           object\n",
       "deadline           object\n",
       "pledged           float64\n",
       "usd_pledged       float64\n",
       "goal              float64\n",
       "backers             int64\n",
       "country            object\n",
       "spotlight          object\n",
       "staff_pick         object\n",
       "result              int64\n",
       "duration            int64\n",
       "month_launched     object\n",
       "dtype: object"
      ]
     },
     "execution_count": 5,
     "metadata": {},
     "output_type": "execute_result"
    }
   ],
   "source": [
    "df.dtypes"
   ]
  },
  {
   "cell_type": "code",
   "execution_count": null,
   "metadata": {},
   "outputs": [],
   "source": [
    "df.drop_duplicates(['id'],inplace = True)"
   ]
  },
  {
   "cell_type": "markdown",
   "metadata": {},
   "source": [
    "## Unique Kickstarter"
   ]
  },
  {
   "cell_type": "code",
   "execution_count": null,
   "metadata": {},
   "outputs": [],
   "source": [
    "udf = pd.read_csv('../data/unique_ks.csv')"
   ]
  },
  {
   "cell_type": "code",
   "execution_count": null,
   "metadata": {},
   "outputs": [],
   "source": [
    "udf.drop(columns = 'Unnamed: 0',inplace = True)"
   ]
  },
  {
   "cell_type": "code",
   "execution_count": null,
   "metadata": {},
   "outputs": [],
   "source": [
    "# udf['creator'] = \n",
    "udf['creator'] = udf['creator'].map(lambda x : x.split(':')[2].split(',')[0][1:-1])"
   ]
  },
  {
   "cell_type": "code",
   "execution_count": null,
   "metadata": {},
   "outputs": [],
   "source": [
    "udf['result'] = udf['state'].copy()"
   ]
  },
  {
   "cell_type": "code",
   "execution_count": null,
   "metadata": {},
   "outputs": [],
   "source": [
    "udf.drop(columns = 'state',inplace = True)"
   ]
  },
  {
   "cell_type": "code",
   "execution_count": null,
   "metadata": {},
   "outputs": [],
   "source": [
    "udf = udf.loc[(udf['result']=='successful')|(udf['result']=='failed')].copy()"
   ]
  },
  {
   "cell_type": "code",
   "execution_count": null,
   "metadata": {},
   "outputs": [],
   "source": [
    "udf['result'] = udf['result'].map({'successful':1,'failed':0})"
   ]
  },
  {
   "cell_type": "code",
   "execution_count": null,
   "metadata": {},
   "outputs": [],
   "source": [
    "unique_creat = []\n",
    "for k,v in (udf['creator'].value_counts()).items():\n",
    "    if ' ' in k and v > 1:\n",
    "        unique_creat.append(k)"
   ]
  },
  {
   "cell_type": "code",
   "execution_count": null,
   "metadata": {},
   "outputs": [],
   "source": [
    "# for i in udf['creator']:\n",
    "#     udf.loc[udf['creator'] ==i,'attempts']= len(udf.loc[udf['creator']==i]['result'].tolist())\n",
    "#     udf.loc[udf['creator'] ==i,'success']= sum(udf.loc[udf['creator']==i]['result'].tolist())"
   ]
  },
  {
   "cell_type": "code",
   "execution_count": null,
   "metadata": {},
   "outputs": [],
   "source": [
    "udf.to_csv('../data/unique_ks_up.csv',index = False)"
   ]
  },
  {
   "cell_type": "code",
   "execution_count": null,
   "metadata": {},
   "outputs": [],
   "source": [
    "gb_udf = udf.loc[udf['attempts']>1]"
   ]
  },
  {
   "cell_type": "code",
   "execution_count": null,
   "metadata": {},
   "outputs": [],
   "source": [
    "udf.loc[udf['creator']=='\"ON!\" - Clariden Robotic Team']"
   ]
  },
  {
   "cell_type": "code",
   "execution_count": null,
   "metadata": {},
   "outputs": [],
   "source": [
    "gb_udf[gb_udf['success']> gb_udf['attempts']/2]"
   ]
  },
  {
   "cell_type": "code",
   "execution_count": null,
   "metadata": {},
   "outputs": [],
   "source": [
    "gb_udf['launched'] = gb_udf['launched'].map(lambda x : pd.to_datetime(x)).copy()\n",
    "gb_udf['deadline'] = gb_udf['deadline'].map(lambda x : pd.to_datetime(x)).copy()"
   ]
  },
  {
   "cell_type": "code",
   "execution_count": null,
   "metadata": {},
   "outputs": [],
   "source": [
    "gb_udf['duration'] = (gb_udf['deadline'] - gb_udf['launched']).dt.days"
   ]
  },
  {
   "cell_type": "code",
   "execution_count": null,
   "metadata": {},
   "outputs": [],
   "source": [
    "gb_udf['duration'].hist()"
   ]
  },
  {
   "cell_type": "markdown",
   "metadata": {},
   "source": [
    "## visaualizations"
   ]
  },
  {
   "cell_type": "code",
   "execution_count": null,
   "metadata": {},
   "outputs": [],
   "source": [
    "df['duration'].hist();"
   ]
  },
  {
   "cell_type": "code",
   "execution_count": null,
   "metadata": {},
   "outputs": [],
   "source": [
    "plt.hist(x = df['duration'],bins = 10,);"
   ]
  },
  {
   "cell_type": "code",
   "execution_count": null,
   "metadata": {},
   "outputs": [],
   "source": [
    "plt.figure(figsize = (16,10))\n",
    "plt.hist(df['duration'])\n",
    "plt.hist(df.loc[df['result']==1]['duration'])\n",
    "plt.title('Distribution of Duration of Campaigns in Days With Color Portion of Success: Bins 10',fontsize = 20)\n",
    "plt.xlabel('Duration',fontsize = 12)\n",
    "plt.ylabel('Frequency',fontsize = 12)\n",
    "mplcyberpunk.add_glow_effects();"
   ]
  },
  {
   "cell_type": "code",
   "execution_count": null,
   "metadata": {},
   "outputs": [],
   "source": [
    "plt.figure(figsize = (16,10))\n",
    "plt.hist(df_cov['duration'])\n",
    "plt.hist(df_cov.loc[df_cov['result']==1]['duration'])\n",
    "plt.title('Covid-19: Distribution of Duration of Campaigns in Days With Color Portion of Success: Bins 10',fontsize = 20)\n",
    "plt.xlabel('Duration',fontsize = 12)\n",
    "plt.ylabel('Frequency',fontsize = 12)\n",
    "mplcyberpunk.add_glow_effects();"
   ]
  },
  {
   "cell_type": "code",
   "execution_count": null,
   "metadata": {},
   "outputs": [],
   "source": [
    "plt.figure(figsize = (16,10))\n",
    "plt.hist(df['duration'],bins = 11)\n",
    "plt.hist(df.loc[df['result']==1]['duration'],bins = 11)\n",
    "plt.title('Distribution of Duration of Campaigns in Days With Color Portion of Success: Bins 11',fontsize = 20)\n",
    "plt.xlabel('Duration',fontsize = 12)\n",
    "plt.ylabel('Frequency',fontsize = 12)\n",
    "mplcyberpunk.add_glow_effects();"
   ]
  },
  {
   "cell_type": "code",
   "execution_count": null,
   "metadata": {},
   "outputs": [],
   "source": [
    "plt.figure(figsize = (16,10))\n",
    "plt.hist(df_cov['duration'],bins = 11)\n",
    "plt.hist(df_cov.loc[df_cov['result']==1]['duration'],bins = 11)\n",
    "plt.title('Covid-19: Distribution of Duration of Campaigns in Days With Color Portion of Success: Bins 11',fontsize = 20)\n",
    "plt.xlabel('Duration',fontsize = 12)\n",
    "plt.ylabel('Frequency',fontsize = 12)\n",
    "mplcyberpunk.add_glow_effects();"
   ]
  },
  {
   "cell_type": "code",
   "execution_count": null,
   "metadata": {},
   "outputs": [],
   "source": [
    "sns.distplot(, kde = False)"
   ]
  },
  {
   "cell_type": "code",
   "execution_count": null,
   "metadata": {},
   "outputs": [],
   "source": [
    "df['main_category'].value_counts().keys()"
   ]
  },
  {
   "cell_type": "code",
   "execution_count": null,
   "metadata": {},
   "outputs": [],
   "source": [
    "plt.figure(figsize = (16,10))\n",
    "plt.bar(x = df['main_category'].value_counts().keys(), height = df['main_category'].value_counts())\n",
    "plt.bar(x = df.loc[df['result']==1]['main_category'].value_counts().keys(), height = df.loc[df['result']==1]['main_category'].value_counts())\n",
    "plt.xlabel('Main Categories', fontsize = 12)\n",
    "plt.ylabel('Frequency', fontsize = 12)\n",
    "plt.title('Main Categories Frequency vs Success', fontsize = 20)\n",
    "mplcyberpunk.add_glow_effects()\n",
    "plt.tight_layout;"
   ]
  },
  {
   "cell_type": "code",
   "execution_count": null,
   "metadata": {},
   "outputs": [],
   "source": [
    "plt.figure(figsize = (16,10))\n",
    "plt.bar(x = df_cov['main_category'].value_counts().keys(), height = df_cov['main_category'].value_counts())\n",
    "plt.bar(x = df_cov.loc[df_cov['result']==1]['main_category'].value_counts().keys(), height = df_cov.loc[df_cov['result']==1]['main_category'].value_counts())\n",
    "plt.xlabel('Main Categories', fontsize = 12)\n",
    "plt.ylabel('Frequency', fontsize = 12)\n",
    "plt.title('Covid-19: Main Categories Frequency vs Success', fontsize = 20)\n",
    "mplcyberpunk.add_glow_effects()\n",
    "plt.tight_layout;"
   ]
  },
  {
   "cell_type": "code",
   "execution_count": null,
   "metadata": {},
   "outputs": [],
   "source": [
    "plt.figure(figsize = (16,10))\n",
    "df.loc[(df['backers'] < 500)]['backers'].hist(bins = 15)\n",
    "df.loc[(df['backers']<500) & (df['result']==1)]['backers'].hist(bins = 15)\n",
    "plt.xlabel('Number of Backers Per Campaign',fontsize = 12)\n",
    "plt.ylabel('Frequency',fontsize = 12)\n",
    "plt.title('Distribution of Goals with Success Highlighted in USD',fontsize = 20)\n",
    "# mplcyberpunk.add_glow_effects()\n",
    "plt.tight_layout;"
   ]
  },
  {
   "cell_type": "code",
   "execution_count": null,
   "metadata": {},
   "outputs": [],
   "source": [
    "plt.figure(figsize = (16,10))\n",
    "\n",
    "df[df['goal']<50000]['goal'].hist(bins = 15)\n",
    "df[(df['goal']<50000)&(df['result']==1)]['goal'].hist(bins = 15)\n",
    "plt.xlabel('Amount in USD',fontsize = 12)\n",
    "plt.ylabel('Frequency',fontsize = 12)\n",
    "plt.title('Distribution of Goals with Success Highlighted in USD',fontsize = 20)\n",
    "# mplcyberpunk.add_glow_effects()\n",
    "plt.tight_layout;"
   ]
  },
  {
   "cell_type": "code",
   "execution_count": null,
   "metadata": {},
   "outputs": [],
   "source": [
    "plt.figure(figsize = (16,10))\n",
    "plt.bar(x = df['month_launched'].value_counts().keys(), height = df['month_launched'].value_counts())\n",
    "plt.bar(x = df.loc[df['result']==1]['month_launched'].value_counts().keys(), height = df.loc[df['result']==1]['month_launched'].value_counts())\n",
    "plt.xlabel('Months', fontsize = 15)\n",
    "plt.ylabel('Frequency', fontsize = 15)\n",
    "plt.title('Number of Campaigns per Month: Color Denotes Success', fontsize = 20)\n",
    "plt.xticks(np.arange(12), (['Jul','Mar','May','Jun','Apr','Oct','Nov','Feb','Aug','Sep','Jan','Dec']),fontsize = 15)\n",
    "plt.yticks(fontsize = 15)\n",
    "mplcyberpunk.add_glow_effects()\n",
    "plt.tight_layout;"
   ]
  },
  {
   "cell_type": "code",
   "execution_count": null,
   "metadata": {},
   "outputs": [],
   "source": [
    "df['launched'] = df['launched'].map(lambda x : pd.to_datetime(x))\n",
    "df['deadline'] = df['deadline'].map(lambda x : pd.to_datetime(x))"
   ]
  },
  {
   "cell_type": "code",
   "execution_count": null,
   "metadata": {},
   "outputs": [],
   "source": [
    "df_cov = df.loc[(df['launched'].dt.year == 2020) & (df['launched'].dt.month.isin([3,4,5,6,7]))]"
   ]
  },
  {
   "cell_type": "code",
   "execution_count": null,
   "metadata": {},
   "outputs": [],
   "source": [
    "df_cov['result'].value_counts(normalize = True)"
   ]
  },
  {
   "cell_type": "code",
   "execution_count": null,
   "metadata": {},
   "outputs": [],
   "source": [
    "df['result'].value_counts(normalize = True)"
   ]
  },
  {
   "cell_type": "code",
   "execution_count": null,
   "metadata": {},
   "outputs": [],
   "source": [
    "df_cov.loc[df_cov['result']==1]['main_category'].value_counts().keys()"
   ]
  },
  {
   "cell_type": "code",
   "execution_count": null,
   "metadata": {},
   "outputs": [],
   "source": [
    "df_cov.loc[df_cov['result']==1]['main_category'].value_counts()"
   ]
  },
  {
   "cell_type": "code",
   "execution_count": null,
   "metadata": {},
   "outputs": [],
   "source": [
    "df_cov.loc[df_cov['result']==0]['main_category'].value_counts()"
   ]
  },
  {
   "cell_type": "code",
   "execution_count": null,
   "metadata": {},
   "outputs": [],
   "source": [
    "2896/(177 + 2896)"
   ]
  },
  {
   "cell_type": "code",
   "execution_count": null,
   "metadata": {},
   "outputs": [],
   "source": [
    "for k,v in df['main_category'].value_counts().items():\n",
    "    print(k,v)"
   ]
  },
  {
   "cell_type": "code",
   "execution_count": null,
   "metadata": {},
   "outputs": [],
   "source": [
    "cat_success = {}\n",
    "for k,v in df.loc[df['result']==1]['main_category'].value_counts().items():\n",
    "    cat_success[k] = v\n",
    "    "
   ]
  },
  {
   "cell_type": "code",
   "execution_count": null,
   "metadata": {},
   "outputs": [],
   "source": [
    "cate = {}\n",
    "for k,v in df['main_category'].value_counts().items():\n",
    "    cate[k] = v"
   ]
  },
  {
   "cell_type": "code",
   "execution_count": null,
   "metadata": {},
   "outputs": [],
   "source": [
    "cat_success"
   ]
  },
  {
   "cell_type": "code",
   "execution_count": null,
   "metadata": {},
   "outputs": [],
   "source": [
    "cate"
   ]
  },
  {
   "cell_type": "markdown",
   "metadata": {},
   "source": [
    "for k_s,v_s in cat_success:\n",
    "    for k_c,v_c in cate:\n",
    "        if k_s == k_c:\n",
    "            cat_success[k_s]/"
   ]
  },
  {
   "cell_type": "code",
   "execution_count": null,
   "metadata": {},
   "outputs": [],
   "source": []
  }
 ],
 "metadata": {
  "kernelspec": {
   "display_name": "Python 3",
   "language": "python",
   "name": "python3"
  },
  "language_info": {
   "codemirror_mode": {
    "name": "ipython",
    "version": 3
   },
   "file_extension": ".py",
   "mimetype": "text/x-python",
   "name": "python",
   "nbconvert_exporter": "python",
   "pygments_lexer": "ipython3",
   "version": "3.7.6"
  }
 },
 "nbformat": 4,
 "nbformat_minor": 4
}
